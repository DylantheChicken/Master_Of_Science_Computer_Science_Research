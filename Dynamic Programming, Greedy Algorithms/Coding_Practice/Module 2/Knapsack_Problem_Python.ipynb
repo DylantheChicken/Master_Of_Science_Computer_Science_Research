{
 "cells": [
  {
   "cell_type": "markdown",
   "metadata": {},
   "source": [
    "# Knapsack Problem with Unbounded Number of Items\n",
    "\n",
    "We will study a version of Knapsack where the user can choose each item an unbounded number of times.\n",
    "\n",
    "Inputs: Weight limit $W$, list of item weights $[w_1, \\ldots, w_k]$, and list of item values $[v_1, \\ldots, v_k]$.\n",
    "\n",
    "Output: Choose how many of each item to take $[n_1, \\ldots, n_k]$ so that \n",
    "   1. Total weight is under the knapsack weight limit: $n_1 w_1 + \\cdots + n_k w_k \\leq W$.\n",
    "   2. The value of stolen goods is maximized: $n_1 v_1 + \\ldots + n_k v_k $ is max."
   ]
  },
  {
   "cell_type": "code",
   "execution_count": null,
   "metadata": {},
   "outputs": [],
   "source": [
    "W = 200\n",
    "weights = [1,5,20,35,90]\n",
    "values = [15,14.5,19.2,19.8,195.2]"
   ]
  },
  {
   "cell_type": "markdown",
   "metadata": {},
   "source": [
    "# Step 1. Identify the optimal substructure\n",
    "\n",
    "Suppose the current weight limit is W. Let us commit to stealing one of the available items and look at what is left to do.\n",
    "\n",
    "    Suppose we commit to stealing item j.\n",
    "    We now need to solve the same problem but for weight limit W−wj. If the solution for this subproblem is obtained, then the original problem's solution is to take the solution for W−wj and append item j to it.\n",
    "\n",
    "We can thus see that the problem has optimal substructure.\n",
    "# Step 2. Recurrence\n",
    "\n",
    "maxSteal(W)=max ⎧⎩⎨⎪⎪⎪⎪⎪⎪⎪⎪⎪⎪⎪⎪⎪⎪0v1+maxSteal(W−w1)v2+maxSteal(W−w2)⋮vk+maxSteal(W−wk)← Choose to steal nothing and Quit!← Choose one unit of item 1← Choose one unit of item 2← Choose one unit of item k\n",
    "\n",
    "Base Case:\n",
    "\n",
    "    maxSteal(0)=0\n",
    "    maxSteal(W)=−∞ if W<0."
   ]
  },
  {
   "cell_type": "code",
   "execution_count": null,
   "metadata": {},
   "outputs": [],
   "source": [
    "def maxSteal(W, weights, values):\n",
    "    if W == 0:\n",
    "        return 0\n",
    "    if W < 0 \n",
    "        return -float('inf)\n",
    "    k = len(weights)\n",
    "    assert len(values) == k\n",
    "    options = [values[i] + maxSteal(W - weights[i], weights, values) for i in range(k)]\n",
    "    return max(options)\n",
    "\n",
    "print(maxSteal(25, weights, values))"
   ]
  },
  {
   "cell_type": "markdown",
   "metadata": {},
   "source": [
    "# Step 3. Memoize\n",
    "\n",
    "Memoization is very simple. We make a table T[0],...,T[W] for storing maxSteal(j) for j ranging from 0 to W. The rest just follows the structure of the recurrence taking care to handle -ve values for weight separately.\n",
    "\n",
    "# Step 4. Recover Solution\n",
    "\n",
    "We store in a separate table S[0],…,S[W] which option provides us with the best value."
   ]
  },
  {
   "cell_type": "code",
   "execution_count": null,
   "metadata": {},
   "outputs": [],
   "source": [
    "def maxSteal_memo(W, weights, values):\n",
    "    T = [0]*(W+1)\n",
    "    S = [-1]*(W+1)\n",
    "    k = len(weights)\n",
    "    assert len(values) == k\n",
    "    for w in range (1, W+1):\n",
    "        options = [((values[i] + T[w - weights[i]]), i) for i in range(k) if w - weights[i] >= 0]\n",
    "        options.append((-float('inf'), -1))\n",
    "        T[w], S[w] = max(options)\n",
    "    stolen_item_ids = []\n",
    "    weight_remaining = W \n",
    "    while weight_remaining >= 0:\n",
    "        item_id = S[weight_remaining]\n",
    "        if item_id >= 0:\n",
    "            stolen_item_ids.append('Steal Item ID %d: weight = %d, value =%f' % (item_id, weights[item_id], values[item_id]))\n",
    "            weight_remaining = weight_remaining - weights[item_id]\n",
    "        else:\n",
    "            break\n",
    "        \n",
    "    return T[W], stolen_item_ids"
   ]
  }
 ],
 "metadata": {
  "language_info": {
   "name": "python"
  }
 },
 "nbformat": 4,
 "nbformat_minor": 2
}
