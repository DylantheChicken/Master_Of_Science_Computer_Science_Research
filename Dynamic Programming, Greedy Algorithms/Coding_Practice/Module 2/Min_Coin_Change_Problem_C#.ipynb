{
 "cells": [
  {
   "cell_type": "code",
   "execution_count": null,
   "metadata": {},
   "outputs": [
    {
     "ename": "",
     "evalue": "",
     "output_type": "error",
     "traceback": [
      "\u001b[1;31mRunning cells with '/opt/homebrew/bin/python3.12' requires the ipykernel package.\n",
      "\u001b[1;31mRun the following command to install 'ipykernel' into the Python environment. \n",
      "\u001b[1;31mCommand: '/opt/homebrew/bin/python3.12 -m pip install ipykernel -U --user --force-reinstall'"
     ]
    }
   ],
   "source": [
    "using System;\n",
    "using System.Collections.Generic;\n",
    "\n",
    "public class Program\n",
    "{\n",
    "    public static void Main()\n",
    "    {\n",
    "        int[] lst = new int[] { 1, 4, 7, 9, 16, 43 }; // Example coin denominations\n",
    "        int x = 33; // Example amount\n",
    "        var result = MinCoins_1(x, lst);\n",
    "        Console.WriteLine(\"Minimum coins needed: \" + result.Item1);\n",
    "        Console.WriteLine(\"Coins used: \" + string.Join(\", \", result.Item2));\n",
    "    }\n",
    "\n",
    "    public static Tuple<int, List<int>> MinCoins_1(int x, int[] lst)\n",
    "    {\n",
    "        int[] T = new int[x + 1];\n",
    "        int[] S = new int[x + 1];\n",
    "        List<int> coinsUsed = new List<int>();\n",
    "\n",
    "        for (int i = 1; i <= x; i++)\n",
    "        {\n",
    "            List<Tuple<int, int>> opts = new List<Tuple<int, int>>();\n",
    "            foreach (var cj in lst)\n",
    "            {\n",
    "                if (i - cj >= 0)\n",
    "                {\n",
    "                    opts.Add(new Tuple<int, int>(1 + T[i - cj], cj));\n",
    "                }\n",
    "            }\n",
    "            opts.Add(new Tuple<int, int>(1000000, -1));\n",
    "            Tuple<int, int> minOpt = opts[0];\n",
    "            foreach (var opt in opts)\n",
    "            {\n",
    "                if (opt.Item1 < minOpt.Item1)\n",
    "                {\n",
    "                    minOpt = opt;\n",
    "                }\n",
    "            }\n",
    "            T[i] = minOpt.Item1;\n",
    "            S[i] = minOpt.Item2;\n",
    "        }\n",
    "\n",
    "        int valueLeft = x;\n",
    "        while (valueLeft > 0)\n",
    "        {\n",
    "            coinsUsed.Add(S[valueLeft]);\n",
    "            valueLeft -= S[valueLeft];\n",
    "        }\n",
    "\n",
    "        return new Tuple<int, List<int>>(T[x], coinsUsed);\n",
    "    }\n",
    "}"
   ]
  }
 ],
 "metadata": {
  "kernelspec": {
   "display_name": "Python 3",
   "language": "python",
   "name": "python3"
  },
  "language_info": {
   "name": "python",
   "version": "3.12.0"
  }
 },
 "nbformat": 4,
 "nbformat_minor": 2
}
