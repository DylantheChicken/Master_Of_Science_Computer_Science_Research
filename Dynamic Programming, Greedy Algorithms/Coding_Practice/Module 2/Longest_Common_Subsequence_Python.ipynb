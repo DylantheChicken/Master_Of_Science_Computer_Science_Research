{
 "cells": [
  {
   "cell_type": "code",
   "execution_count": null,
   "metadata": {},
   "outputs": [],
   "source": [
    "try:\n",
    "    %load_ext autotime\n",
    "except:\n",
    "    !pip install ipython-autotime\n",
    "    %load_ext autotime"
   ]
  },
  {
   "cell_type": "markdown",
   "metadata": {},
   "source": [
    "Dynamic Programming Algorithm for Longest Common Subsequence\n",
    "\n",
    "Recall the recurrence that we implement to be Python friendly assuming that the arguments `i, j` satisfy `0 ≤ i ≤ len(s1)` and `0 ≤ j ≤ len(s2)`.\n",
    "\n",
    "$$\n",
    "\\text{lcss}(i, j) = \n",
    "\\begin{cases}\n",
    "0 & \\text{if } i \\geq \\text{len}(s1) \\text{ or } j \\geq \\text{len}(s2) \\\\\n",
    "1 + \\text{lcss}(i+1, j+1) & \\text{if } s1[i] = s2[j] \\\\\n",
    "\\max(\\text{lcss}(i+1, j), \\text{lcss}(i, j+1)) & \\text{otherwise}\n",
    "\\end{cases}\n",
    "$$\n"
   ]
  },
  {
   "cell_type": "code",
   "execution_count": null,
   "metadata": {},
   "outputs": [],
   "source": [
    "def lcs(s1, s2, i, j):\n",
    "    assert 0 <= i < len(s1) and 0 <= j < len(s2)\n",
    "\n",
    "    if i == len(s1) or j == len(s2):\n",
    "        return 0\n",
    "    if s1[i] == s2[j]:\n",
    "        return 1 + lcs(s1, s2, i+1, j+1)\n",
    "    else:\n",
    "        return max(lcs(s1,s2,i+1,j), lcs(s1, s2, i, j+1))"
   ]
  },
  {
   "cell_type": "markdown",
   "metadata": {},
   "source": [
    "This is highly inefficient. We will memoize it."
   ]
  },
  {
   "cell_type": "code",
   "execution_count": null,
   "metadata": {},
   "outputs": [],
   "source": [
    "def memoize_lcs(s1, s2):\n",
    "    m = len(s1)\n",
    "    n = len(s2)\n",
    "    #create memo table and fill with zeros to take care of base cases. \n",
    "    memo_table = [[0 for j in range(n+1)] for i in range[m+1]]\n",
    "    solution_table = [['' for j in range(n+1)] for i in range[m+1]]\n",
    "    for i in range(m-1, -1, -1):\n",
    "        for j in range(n-1, -1, -1):\n",
    "            if s1[i] == s2[j]:\n",
    "                memo_table[i][j] = 1 + memo_table[i+1][j+1]\n",
    "                solution_table[i][j] = 'match'\n",
    "            else:\n",
    "                # Python allows us to compare and assign tuples\n",
    "                # This nifty bit of code saves us an if then else condition and assignments\n",
    "                # if you are new to python feel free to write out the logic carefully\n",
    "                memo_tbl[i][j], sol_info[i][j] = max((memo_tbl[i+1][j],'right'), (memo_tbl[i][j+1], 'down'))\n",
    "\n",
    "    lcs = '' #initialize lcs to empty string\n",
    "    match_locations = []\n",
    "    i, j = 0, 0\n",
    "\n",
    "    while (i <m and j<n):\n",
    "        if solution_table[i][j] == 'match':\n",
    "            assert s1[i] == s2[j]\n",
    "            lcs += s1[i]\n",
    "            match_locations.append(i,j)\n",
    "            i += 1\n",
    "            j += 1\n",
    "        elif solution_table[i][j] == 'right':\n",
    "            i += 1\n",
    "            j = j\n",
    "        else:\n",
    "            assert solution_table[i][j] == 'down'\n",
    "            j += 1\n",
    "            i = i\n",
    "    return lcs, match_locations"
   ]
  }
 ],
 "metadata": {
  "kernelspec": {
   "display_name": "Python 3",
   "language": "python",
   "name": "python3"
  },
  "language_info": {
   "name": "python",
   "version": "3.12.2"
  }
 },
 "nbformat": 4,
 "nbformat_minor": 2
}
